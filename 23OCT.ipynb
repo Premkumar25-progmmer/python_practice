{
 "cells": [
  {
   "cell_type": "code",
   "execution_count": 1,
   "id": "f2b6cf11-d322-4b8f-9795-8016a147406d",
   "metadata": {},
   "outputs": [
    {
     "data": {
      "text/plain": [
       "list"
      ]
     },
     "execution_count": 1,
     "metadata": {},
     "output_type": "execute_result"
    }
   ],
   "source": [
    "a=[]\n",
    "type(a)\n"
   ]
  },
  {
   "cell_type": "code",
   "execution_count": 3,
   "id": "280ec678-1745-4bdb-88a2-877505791771",
   "metadata": {},
   "outputs": [
    {
     "data": {
      "text/plain": [
       "[23, 45, 67, 78]"
      ]
     },
     "execution_count": 3,
     "metadata": {},
     "output_type": "execute_result"
    }
   ],
   "source": [
    "a=[23,45,67,78]\n",
    "a"
   ]
  },
  {
   "cell_type": "code",
   "execution_count": 5,
   "id": "b6571cf1-6fb2-4719-9142-12c3ad64b0d8",
   "metadata": {},
   "outputs": [
    {
     "data": {
      "text/plain": [
       "67"
      ]
     },
     "execution_count": 5,
     "metadata": {},
     "output_type": "execute_result"
    }
   ],
   "source": [
    "a[2] "
   ]
  },
  {
   "cell_type": "code",
   "execution_count": 7,
   "id": "8b4202eb-4c49-45f3-85ce-ad28861d8318",
   "metadata": {},
   "outputs": [
    {
     "data": {
      "text/plain": [
       "[23, 45, 67, 78]"
      ]
     },
     "execution_count": 7,
     "metadata": {},
     "output_type": "execute_result"
    }
   ],
   "source": [
    "a"
   ]
  },
  {
   "cell_type": "code",
   "execution_count": 9,
   "id": "fb876db6-c24c-4ca7-b5a9-4d2b189de175",
   "metadata": {},
   "outputs": [
    {
     "data": {
      "text/plain": [
       "[23, 100, 67, 78]"
      ]
     },
     "execution_count": 9,
     "metadata": {},
     "output_type": "execute_result"
    }
   ],
   "source": [
    "a[1]=100\n",
    "a"
   ]
  },
  {
   "cell_type": "code",
   "execution_count": 11,
   "id": "eb784bc2-84da-435e-88d8-a8c861b79165",
   "metadata": {},
   "outputs": [
    {
     "data": {
      "text/plain": [
       "[23, 100, 67, 78]"
      ]
     },
     "execution_count": 11,
     "metadata": {},
     "output_type": "execute_result"
    }
   ],
   "source": [
    "a"
   ]
  },
  {
   "cell_type": "code",
   "execution_count": 13,
   "id": "89612ee4-8070-46fe-8bfe-a2b10830292d",
   "metadata": {},
   "outputs": [],
   "source": [
    "# append()\n",
    "# insert()\n",
    "# extend()"
   ]
  },
  {
   "cell_type": "code",
   "execution_count": 15,
   "id": "1447bfb1-d119-4650-bff7-0e0f73950906",
   "metadata": {},
   "outputs": [
    {
     "data": {
      "text/plain": [
       "[23, 100, 67, 78]"
      ]
     },
     "execution_count": 15,
     "metadata": {},
     "output_type": "execute_result"
    }
   ],
   "source": [
    "a"
   ]
  },
  {
   "cell_type": "code",
   "execution_count": 17,
   "id": "a7dd6cbf-adec-4f5f-b384-59e4fa258486",
   "metadata": {},
   "outputs": [
    {
     "name": "stdout",
     "output_type": "stream",
     "text": [
      "[23, 100, 67, 78]\n",
      "[23, 100, 67, 78, 50]\n"
     ]
    }
   ],
   "source": [
    "print(a)  # 23 100 67 78\n",
    "a.append(50)\n",
    "print(a)   # 23 100 67 78 50\n"
   ]
  },
  {
   "cell_type": "code",
   "execution_count": 19,
   "id": "591687fb-99f7-4e5c-af5c-513da3a9d222",
   "metadata": {},
   "outputs": [
    {
     "name": "stdout",
     "output_type": "stream",
     "text": [
      "[23, 100, 67, 78, 50]\n",
      "[23, 100, 67, 78, 50, [34, 56, 89, 67]]\n"
     ]
    }
   ],
   "source": [
    "print(a)  #  23, 100, 67,78, 50\n",
    "b=[34,56,89,67] \n",
    "a.append(b) \n",
    "print(a)    #  23,100,67,78,50, 34,56,89,67"
   ]
  },
  {
   "cell_type": "code",
   "execution_count": 25,
   "id": "2fc8f53a-504b-4e28-92ef-14249fa20c86",
   "metadata": {},
   "outputs": [
    {
     "name": "stdout",
     "output_type": "stream",
     "text": [
      "50\n",
      "[34, 56, 89, 67]\n",
      "56\n"
     ]
    }
   ],
   "source": [
    "print(a[4])  #\n",
    "print(a[5])\n",
    "print(a[5][0])"
   ]
  },
  {
   "cell_type": "code",
   "execution_count": 27,
   "id": "fbc9a448-4124-45fc-aee6-e5f65258d15d",
   "metadata": {},
   "outputs": [],
   "source": [
    "# 1. List is a data structure in python\n",
    "# 2. List is mutable and it allows duplicate values\n",
    "# 3. Append() method is used to append the values to existing list\n",
    "# 4. using append method we can add single element or multiple elements\n",
    "# 5. List follows indexing order."
   ]
  },
  {
   "cell_type": "code",
   "execution_count": 31,
   "id": "6178dc6a-573e-491f-b035-fbb71fd984d7",
   "metadata": {},
   "outputs": [
    {
     "data": {
      "text/plain": [
       "[23, 45, 77, 99, 11, 43, 66]"
      ]
     },
     "execution_count": 31,
     "metadata": {},
     "output_type": "execute_result"
    }
   ],
   "source": [
    "# append()\n",
    "# insert()\n",
    "a=[23,45,77,99,11,43,66]\n",
    "a"
   ]
  },
  {
   "cell_type": "code",
   "execution_count": 33,
   "id": "3c632750-32f0-4d7a-960f-917b4e1017c7",
   "metadata": {},
   "outputs": [
    {
     "name": "stdout",
     "output_type": "stream",
     "text": [
      "[23, 45, 77, 99, 11, 43, 66]\n",
      "[23, 33, 45, 77, 99, 11, 43, 66]\n"
     ]
    }
   ],
   "source": [
    "print(a)\n",
    "a.insert(1,33)\n",
    "print(a)"
   ]
  },
  {
   "cell_type": "code",
   "execution_count": 37,
   "id": "e3d6040e-11cf-4faa-89a5-5cafaf2e8414",
   "metadata": {},
   "outputs": [
    {
     "name": "stdout",
     "output_type": "stream",
     "text": [
      "[23, 33, [10, 20, 30], 45, 77, 99, 11, 43, 66]\n",
      "[23, 33, [10, 20, 30], [10, 20, 30], 45, 77, 99, 11, 43, 66]\n",
      "[10, 20, 30]\n"
     ]
    }
   ],
   "source": [
    "print(a)\n",
    "b=[10,20,30]\n",
    "a.insert(2,b)\n",
    "print(a)\n",
    "print(a[2])"
   ]
  },
  {
   "cell_type": "code",
   "execution_count": 41,
   "id": "53a8602a-f45a-42d5-b58e-782a5d465081",
   "metadata": {},
   "outputs": [
    {
     "name": "stdout",
     "output_type": "stream",
     "text": [
      "[23, 45, 77, 99, 11, 43, 66]\n",
      "[23, 45, 77, 99, 11, 43, 66, 10, 20, 30]\n"
     ]
    }
   ],
   "source": [
    "# append() \n",
    "# insert()\n",
    "# extend()\n",
    "a=[23,45,77,99,11,43,66]\n",
    "print(a)\n",
    "b=[10,20,30]\n",
    "a.extend(b)\n",
    "print(a)\n"
   ]
  },
  {
   "cell_type": "code",
   "execution_count": 43,
   "id": "bf3dbc1e-9d2a-4f02-b352-8cc4eb0e415c",
   "metadata": {},
   "outputs": [],
   "source": [
    "# append(): it is used to add element in a end of list\n",
    "#   it provides single index position for multiple values also \n",
    "# insert() : it is used to insert an element in a specific index\n",
    "# extend() : it is used to add list of elements to exisiting list.\n",
    "#     it provides separate index postion for each value"
   ]
  },
  {
   "cell_type": "code",
   "execution_count": 45,
   "id": "5e07b961-2659-48f3-a681-9eb80410e913",
   "metadata": {},
   "outputs": [
    {
     "name": "stdout",
     "output_type": "stream",
     "text": [
      "[34, 56, 67, 89, 10]\n",
      "[34, 56, 89, 10]\n"
     ]
    }
   ],
   "source": [
    "# remove()\n",
    "# pop()\n",
    "# pop(index)\n",
    "# clear()\n",
    "\n",
    "list=[34,56,67,89,10]\n",
    "print(list)\n",
    "list.remove(67)\n",
    "print(list)"
   ]
  },
  {
   "cell_type": "code",
   "execution_count": 47,
   "id": "58d32948-aa0a-4373-9d77-2ceee2c3aa1b",
   "metadata": {},
   "outputs": [
    {
     "name": "stdout",
     "output_type": "stream",
     "text": [
      "[34, 56, 67, 89, 10]\n",
      "[34, 56, 67, 89]\n"
     ]
    }
   ],
   "source": [
    "# remove()\n",
    "# pop()\n",
    "# pop(index)\n",
    "# clear()\n",
    "\n",
    "list=[34,56,67,89,10]\n",
    "print(list)\n",
    "list.pop()\n",
    "print(list)"
   ]
  },
  {
   "cell_type": "code",
   "execution_count": 49,
   "id": "04302ce9-555c-4245-9b35-426e9e9a15b9",
   "metadata": {},
   "outputs": [
    {
     "name": "stdout",
     "output_type": "stream",
     "text": [
      "[34, 56, 67, 89, 10]\n",
      "[34, 67, 89, 10]\n"
     ]
    }
   ],
   "source": [
    "# remove()\n",
    "# pop()\n",
    "# pop(index)\n",
    "# clear()\n",
    "\n",
    "list=[34,56,67,89,10]\n",
    "print(list)\n",
    "list.pop(1)\n",
    "print(list)"
   ]
  },
  {
   "cell_type": "code",
   "execution_count": 59,
   "id": "69f58985-a455-4900-b544-046763f40dc4",
   "metadata": {},
   "outputs": [
    {
     "name": "stdout",
     "output_type": "stream",
     "text": [
      "[34, 56, 67, 89, 10]\n",
      "[10, 34, 56, 67, 89]\n",
      "[89, 67, 56, 34, 10]\n"
     ]
    }
   ],
   "source": [
    "# Sort\n",
    "list=[34,56,67,89,10]\n",
    "print(list)\n",
    "list.sort()\n",
    "print(list)\n",
    "list.sort(reverse=True)\n",
    "print(list)\n"
   ]
  },
  {
   "cell_type": "code",
   "execution_count": 61,
   "id": "70ef718d-0435-4b93-83b7-962a208f85b4",
   "metadata": {},
   "outputs": [
    {
     "name": "stdout",
     "output_type": "stream",
     "text": [
      "[34, 56, 67, 89, 10]\n",
      "[34, 56, 67, 89, 10]\n",
      "[34, 56, 67, 89, 10]\n",
      "[34, 56, 67, 89, 10, 100]\n"
     ]
    }
   ],
   "source": [
    "list=[34,56,67,89,10]\n",
    "list1=list.copy()\n",
    "print(list)\n",
    "print(list1)\n",
    "list1.append(100)\n",
    "print(list)\n",
    "print(list1)\n"
   ]
  },
  {
   "cell_type": "code",
   "execution_count": 65,
   "id": "41016a45-f686-4de9-8293-f2e7c6be060c",
   "metadata": {},
   "outputs": [
    {
     "name": "stdout",
     "output_type": "stream",
     "text": [
      "1\n",
      "3\n"
     ]
    }
   ],
   "source": [
    "list=[34,56,67,89,10,10,34,10]\n",
    "print(list.index(56))\n",
    "print(list.count(10))\n"
   ]
  },
  {
   "cell_type": "markdown",
   "id": "75ea6ced-88e2-4d1c-82c5-e99f4c038148",
   "metadata": {},
   "source": [
    "List operations:\n",
    "1. append()\n",
    "2. insert()\n",
    "3. extend()\n",
    "4. remove()\n",
    "5. pop()\n",
    "6. pop(index)\n",
    "7. clear()\n",
    "8. copy()\n",
    "9. index()\n",
    "10. sort()\n",
    "11. reverse()\n",
    "12. count()\n",
    "13. max(), min(), sum()"
   ]
  },
  {
   "cell_type": "code",
   "execution_count": 70,
   "id": "2870751c-c53b-4efb-99ed-141a121d99d0",
   "metadata": {},
   "outputs": [
    {
     "name": "stdout",
     "output_type": "stream",
     "text": [
      "23 78 45 67 71 90 "
     ]
    }
   ],
   "source": [
    "# Write a program to print even numbers in a given list\n",
    "a=[23,78,45,67,71,90]\n",
    "for i in a:\n",
    "    print(i,end=\" \")"
   ]
  },
  {
   "cell_type": "code",
   "execution_count": 72,
   "id": "f83a4899-2e0a-4493-89bc-7322bebd93f6",
   "metadata": {},
   "outputs": [
    {
     "name": "stdout",
     "output_type": "stream",
     "text": [
      "78 90 "
     ]
    }
   ],
   "source": [
    "a=[23,78,45,67,71,90]\n",
    "for i in a:\n",
    "    if i%2==0:\n",
    "        print(i,end=\" \")"
   ]
  },
  {
   "cell_type": "code",
   "execution_count": 74,
   "id": "2887b5ce-774d-4722-be7f-c84b52eaf0c2",
   "metadata": {},
   "outputs": [],
   "source": [
    "# Write a program to print prime numbers in a given list\n",
    "# Write a program to print second max element in a given list\n"
   ]
  },
  {
   "cell_type": "markdown",
   "id": "9003d72d-d955-4c05-b582-11db30d9a9a3",
   "metadata": {},
   "source": [
    "# Tuple:\n",
    "  -- min()\n",
    "  -- max()\n",
    "  -- count()\n",
    "  -- sum()\n",
    "  -- slicing"
   ]
  },
  {
   "cell_type": "code",
   "execution_count": 94,
   "id": "97ebc332-1e8b-4891-92aa-59c849a86992",
   "metadata": {},
   "outputs": [
    {
     "name": "stdout",
     "output_type": "stream",
     "text": [
      "34 56 78 32 90 "
     ]
    }
   ],
   "source": [
    "list=[34,56,67,78,32,90]\n",
    "\n",
    "for i in list:\n",
    "    if i%2==0:\n",
    "        print(i, end=\" \")\n",
    "    "
   ]
  },
  {
   "cell_type": "code",
   "execution_count": 128,
   "id": "3a092934-7055-494c-a3f8-bc8dfa68a470",
   "metadata": {},
   "outputs": [
    {
     "name": "stdout",
     "output_type": "stream",
     "text": [
      "67 11 13 17 "
     ]
    }
   ],
   "source": [
    "list=[34,56,67,78,32,90,11,13,17]\n",
    "fact=0\n",
    "for i in list:\n",
    "    fact=0\n",
    "    for j in range(1, (i+1)):\n",
    "        if i%j==0:\n",
    "            fact=fact+1\n",
    "    if fact==2:\n",
    "        print(i, end=\" \")\n",
    "        "
   ]
  },
  {
   "cell_type": "code",
   "execution_count": 132,
   "id": "63903555-aacd-42bf-abb2-857a85eee37c",
   "metadata": {},
   "outputs": [
    {
     "name": "stdout",
     "output_type": "stream",
     "text": [
      "78\n"
     ]
    }
   ],
   "source": [
    "list=[34,56,67,78,32,90,11,13,17]\n",
    "list.sort(reverse=True)\n",
    "print(list[1])\n"
   ]
  },
  {
   "cell_type": "code",
   "execution_count": 134,
   "id": "24a15c27-bbce-40a1-ac55-8ce6a86d0256",
   "metadata": {},
   "outputs": [],
   "source": [
    "# Write a program to find number of words in a given string\n",
    "# input : Hi hello this is Nagul\n",
    "# Eouput: 5"
   ]
  },
  {
   "cell_type": "code",
   "execution_count": 140,
   "id": "af581012-f1d5-417d-bc52-40953247e7da",
   "metadata": {},
   "outputs": [
    {
     "name": "stdout",
     "output_type": "stream",
     "text": [
      "<class 'list'>\n",
      "this\n",
      "Number of words : 5\n"
     ]
    }
   ],
   "source": [
    "str=\"Hi hello this is Nagul\"\n",
    "words=str.split(\" \")\n",
    "print(type(words))\n",
    "print(words[2])\n",
    "print(\"Number of words :\",len(words)) "
   ]
  },
  {
   "cell_type": "code",
   "execution_count": 148,
   "id": "a29840c7-1136-435c-bc46-c828276cc848",
   "metadata": {},
   "outputs": [
    {
     "name": "stdout",
     "output_type": "stream",
     "text": [
      "Hi56  --  4\n",
      "hello@  --  6\n",
      "this  --  4\n",
      "is  --  2\n",
      "Nagul  --  5\n"
     ]
    }
   ],
   "source": [
    "# Write a program to find number of characters in each word in a given setnece\n",
    "# input : Hi hello this is Nagul\n",
    "#output:\n",
    "#   Hi  -- 2\n",
    "#   hello  - 5\n",
    "#   this  -- 4\n",
    "#   is    - 2\n",
    "#   Nagul  - 5\n",
    "\n",
    "str=\"Hi56 hello@ this is Nagul\"\n",
    "words=str.split(\" \")\n",
    "for word in words:\n",
    "    print(word,\" -- \", len(word))\n",
    "    "
   ]
  },
  {
   "cell_type": "code",
   "execution_count": 150,
   "id": "69058662-8f2d-4878-88cb-42eee83a7091",
   "metadata": {},
   "outputs": [
    {
     "data": {
      "text/plain": [
       "' Write a logic to find \\n  no.of alphabets \\n  no.of digits\\n  no.of special characters\\n  in each word of a given sentence\\n\\ninput: Hi12 Hello$ This@ is Nagul7\\noutput: \\n   Hi12: alphabets: 2\\n         digit    : 2\\n         special chars: 0\\n   Hello$: alphabets: 5\\n           digits: 0\\n           special chars: 1\\n         \\n \\n  '"
      ]
     },
     "execution_count": 150,
     "metadata": {},
     "output_type": "execute_result"
    }
   ],
   "source": [
    "\"\"\" Write a logic to find \n",
    "  no.of alphabets \n",
    "  no.of digits\n",
    "  no.of special characters\n",
    "  in each word of a given sentence\n",
    "\n",
    "input: Hi12 Hello$ This@ is Nagul7\n",
    "output: \n",
    "   Hi12: alphabets: 2\n",
    "         digit    : 2\n",
    "         special chars: 0\n",
    "   Hello$: alphabets: 5\n",
    "           digits: 0\n",
    "           special chars: 1\n",
    "         \n",
    " \n",
    "  \"\"\"\n",
    "\n",
    "\n"
   ]
  },
  {
   "cell_type": "code",
   "execution_count": 152,
   "id": "497fe53a-28c8-467b-897b-88f498325ada",
   "metadata": {},
   "outputs": [],
   "source": [
    "#  Tuple:  min() -- max() -- count() -- sum() -- slicing"
   ]
  },
  {
   "cell_type": "code",
   "execution_count": 160,
   "id": "7a82ed8e-81ed-4b7b-aa94-648a5577bcb0",
   "metadata": {},
   "outputs": [
    {
     "name": "stdout",
     "output_type": "stream",
     "text": [
      "(23, 45, 56, 89)\n",
      "45\n",
      "Max :  89\n",
      "Min :  23\n",
      "Total:  213\n",
      "No.of values : 4\n"
     ]
    }
   ],
   "source": [
    "#1. Tuple allows duplicate values\n",
    "#2. it follows the indexing order\n",
    "#3. it is immutable\n",
    "\n",
    "a=(23,45,56,89)\n",
    "print(a)\n",
    "print(a[1])\n",
    "print(\"Max : \", max(a))\n",
    "print(\"Min : \", min(a))\n",
    "print(\"Total: \",sum(a))\n",
    "print(\"No.of values :\",len(a));\n",
    "\n",
    "a[1]=100  # Error because tuple is immutable\n",
    "a[:]\n",
    "a[2:]\n",
    "a[:5]\n",
    "a[-1]\n",
    "a[::]\n",
    "a[::-1]\n",
    "\n",
    "\n"
   ]
  },
  {
   "cell_type": "code",
   "execution_count": null,
   "id": "507021bf-4377-44d4-892d-445aa14b6e93",
   "metadata": {},
   "outputs": [],
   "source": []
  }
 ],
 "metadata": {
  "kernelspec": {
   "display_name": "Python 3 (ipykernel)",
   "language": "python",
   "name": "python3"
  },
  "language_info": {
   "codemirror_mode": {
    "name": "ipython",
    "version": 3
   },
   "file_extension": ".py",
   "mimetype": "text/x-python",
   "name": "python",
   "nbconvert_exporter": "python",
   "pygments_lexer": "ipython3",
   "version": "3.12.4"
  }
 },
 "nbformat": 4,
 "nbformat_minor": 5
}
